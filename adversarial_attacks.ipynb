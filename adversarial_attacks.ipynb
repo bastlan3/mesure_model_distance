{
 "cells": [
  {
   "cell_type": "code",
   "execution_count": 9,
   "metadata": {},
   "outputs": [
    {
     "name": "stdout",
     "output_type": "stream",
     "text": [
      "==> Preparing dataset faces..\n"
     ]
    }
   ],
   "source": [
    "ATTACK_EPS = 10\n",
    "ATTACK_STEPSIZE = 0.3\n",
    "ATTACK_STEPS = 20\n",
    "NUM_WORKERS = 16\n",
    "BATCH_SIZE = 4\n",
    "CUDA_LAUNCH_BLOCKING=1\n",
    "\n",
    "import torch as ch\n",
    "import torch\n",
    "import torch.nn as nn\n",
    "import pandas as pd\n",
    "import numpy as np\n",
    "import sys\n",
    "\n",
    "sys.path.append('./../primate_robustness_mess/robustness_imagenet/')\n",
    "\n",
    "from robustness.datasets import Faces_data_rich, Faces\n",
    "from robustness.datasets import DATASETS, ImageNet\n",
    "from robustness.attacker import AttackerModel\n",
    "from torch.utils.data import Dataset\n",
    "\n",
    "from torch.utils.data import DataLoader\n",
    "\n",
    "from torchvision import models, transforms\n",
    "from torchvision.io import read_image\n",
    "from torch import tensor\n",
    "import re\n",
    "import os\n",
    "from robustness.tools.vis_tools import show_image_row\n",
    "\n",
    "import pickle\n",
    "\n",
    "ds = Faces_data_rich('./../primate_robustness_mess/PrimateVisionRobustness/Data/Robustness/Stimuli/image_adversarial/pilot_study_v3/')\n",
    "train_loader, test_loader = ds.make_loaders(workers=NUM_WORKERS, batch_size=BATCH_SIZE)"
   ]
  },
  {
   "cell_type": "code",
   "execution_count": 11,
   "metadata": {},
   "outputs": [],
   "source": [
    "device = 'cuda'\n",
    "# DataLoader\n",
    "def get_dataloader(csv_file, root_dir, batch_size, transform):\n",
    "    class CustomDataset(Dataset):\n",
    "        def __init__(self, csv_file, root_dir, transform=None):\n",
    "            self.annotations = pd.read_csv(csv_file)\n",
    "            self.root_dir = root_dir\n",
    "            self.transform = transform\n",
    "\n",
    "        def __len__(self):\n",
    "            return len(self.annotations)\n",
    "\n",
    "        def __getitem__(self, idx):\n",
    "            \n",
    "            img_name = f\"{self.root_dir}/{self.annotations.iloc[idx, 8]}\"\n",
    "            try:\n",
    "                image = Image.open(img_name).convert(\"L\").convert(\"RGB\")\n",
    "            except:\n",
    "                print(img_name)\n",
    "            label1 = torch.tensor([self.annotations.iloc[idx, 3], abs(1 - self.annotations.iloc[idx, 3])])* self.annotations.iloc[idx, 7].squeeze()\n",
    "            label2 =  self.annotations.iloc[idx, 3]\n",
    "            if self.transform:\n",
    "                image = self.transform(image)\n",
    "            \n",
    "            return image, (label1, label2)\n",
    "\n",
    "    dataset = CustomDataset(csv_file=csv_file, root_dir=root_dir, transform=transform)\n",
    "    dataloader = DataLoader(dataset, batch_size=batch_size, shuffle=True, num_workers = 8)\n",
    "    return dataloader\n",
    "\n",
    "# Model Modification\n",
    "def modify_resnet50(device):\n",
    "    model = models.resnet50(pretrained=True)\n",
    "    num_ftrs = model.fc.in_features\n",
    "\n",
    "    # Modify the fully connected layer to output two sets of classes\n",
    "    class CustomResNet50(nn.Module):\n",
    "        def __init__(self, original_model):\n",
    "            super(CustomResNet50, self).__init__()\n",
    "            self.features = nn.Sequential(*list(original_model.children())[:-1])\n",
    "            for param in self.features.parameters():\n",
    "                param.requires_grad = False\n",
    "\n",
    "            self.fc1 = nn.Sequential(\n",
    "                nn.Linear(num_ftrs, 512),\n",
    "                nn.ReLU(),\n",
    "                nn.Linear(512, 512),\n",
    "                nn.ReLU(),\n",
    "                nn.Dropout(0.2),\n",
    "                nn.Linear(512, 2),\n",
    "                nn.Sigmoid()\n",
    "                )\n",
    "            \n",
    "            self.fc2 = nn.Sequential(\n",
    "                nn.Linear(num_ftrs, 512),\n",
    "                nn.ReLU(),\n",
    "                nn.Dropout(0.2),\n",
    "                nn.Linear(512, 512),\n",
    "                nn.Linear(512, 256),\n",
    "                nn.ReLU(),\n",
    "                nn.Linear(256, 1),\n",
    "                nn.Sigmoid()\n",
    "                )\n",
    "            \n",
    "            self.linear = nn.Linear(258, 1)\n",
    "\n",
    "        def forward(self, x):\n",
    "            x = self.features(x)\n",
    "            x = x.view(x.size(0), -1)\n",
    "            out1 = (self.fc1(x)-0.5)*8\n",
    "            out2 = self.fc2(x)\n",
    "            out2_expanded = torch.cat((out2, abs(1 - out2)), dim=1)\n",
    "            out1 = out1 * out2_expanded\n",
    "            #out2 = nn.Tanh()(self.linear(torch.cat((x, out1), dim=1)))\n",
    "            return out1, out2   # allows for distance to be between -4 and 4\n",
    "        \n",
    "        def freeze(self, freeze = True):\n",
    "            freeze = not freeze # Invert the freeze parameter to transorm it in require grad\n",
    "            for param in self.features.parameters():\n",
    "                param.requires_grad = freeze\n",
    "\n",
    "                \n",
    "        def freeze_fc2(self, freeze = True):\n",
    "            freeze = not freeze # Invert the freeze parameter to transorm it in require grad\n",
    "            for param in self.fc2.parameters():\n",
    "                param.requires_grad = freeze\n",
    "\n",
    "    model = CustomResNet50(model).to(device)\n",
    "    return model\n",
    "    \n"
   ]
  },
  {
   "cell_type": "code",
   "execution_count": 16,
   "metadata": {},
   "outputs": [
    {
     "name": "stderr",
     "output_type": "stream",
     "text": [
      "/tmp/ipykernel_1402359/1199074549.py:3: FutureWarning: You are using `torch.load` with `weights_only=False` (the current default value), which uses the default pickle module implicitly. It is possible to construct malicious pickle data which will execute arbitrary code during unpickling (See https://github.com/pytorch/pytorch/blob/main/SECURITY.md#untrusted-models for more details). In a future release, the default value for `weights_only` will be flipped to `True`. This limits the functions that could be executed during unpickling. Arbitrary objects will no longer be allowed to be loaded via this mode unless they are explicitly allowlisted by the user via `torch.serialization.add_safe_globals`. We recommend you start setting `weights_only=True` for any use case where you don't have full control of the loaded file. Please open an issue on GitHub for any issues related to this experimental feature.\n",
      "  saved_model.load_state_dict(torch.load('trained_two_tailed_resnet50_lr_0.001_epochs_5.pth'))\n"
     ]
    },
    {
     "ename": "RuntimeError",
     "evalue": "Error(s) in loading state_dict for DataParallel:\n\tMissing key(s) in state_dict: \"module.fc2.4.weight\", \"module.fc2.4.bias\", \"module.fc2.6.weight\", \"module.fc2.6.bias\". \n\tUnexpected key(s) in state_dict: \"module.fc2.5.weight\", \"module.fc2.5.bias\". \n\tsize mismatch for module.fc2.3.weight: copying a param with shape torch.Size([256, 512]) from checkpoint, the shape in current model is torch.Size([512, 512]).\n\tsize mismatch for module.fc2.3.bias: copying a param with shape torch.Size([256]) from checkpoint, the shape in current model is torch.Size([512]).",
     "output_type": "error",
     "traceback": [
      "\u001b[0;31m---------------------------------------------------------------------------\u001b[0m",
      "\u001b[0;31mRuntimeError\u001b[0m                              Traceback (most recent call last)",
      "Cell \u001b[0;32mIn[16], line 3\u001b[0m\n\u001b[1;32m      1\u001b[0m saved_model \u001b[38;5;241m=\u001b[39m modify_resnet50(device)\n\u001b[1;32m      2\u001b[0m saved_model \u001b[38;5;241m=\u001b[39m nn\u001b[38;5;241m.\u001b[39mDataParallel(saved_model)\n\u001b[0;32m----> 3\u001b[0m saved_model\u001b[38;5;241m.\u001b[39mload_state_dict(torch\u001b[38;5;241m.\u001b[39mload(\u001b[38;5;124m'\u001b[39m\u001b[38;5;124mtrained_two_tailed_resnet50_lr_0.001_epochs_5.pth\u001b[39m\u001b[38;5;124m'\u001b[39m))\n\u001b[1;32m      4\u001b[0m saved_model\u001b[38;5;241m.\u001b[39meval()\n",
      "File \u001b[0;32m~/miniconda3/envs/monke_env/lib/python3.12/site-packages/torch/nn/modules/module.py:2584\u001b[0m, in \u001b[0;36mModule.load_state_dict\u001b[0;34m(self, state_dict, strict, assign)\u001b[0m\n\u001b[1;32m   2576\u001b[0m         error_msgs\u001b[38;5;241m.\u001b[39minsert(\n\u001b[1;32m   2577\u001b[0m             \u001b[38;5;241m0\u001b[39m,\n\u001b[1;32m   2578\u001b[0m             \u001b[38;5;124m\"\u001b[39m\u001b[38;5;124mMissing key(s) in state_dict: \u001b[39m\u001b[38;5;132;01m{}\u001b[39;00m\u001b[38;5;124m. \u001b[39m\u001b[38;5;124m\"\u001b[39m\u001b[38;5;241m.\u001b[39mformat(\n\u001b[1;32m   2579\u001b[0m                 \u001b[38;5;124m\"\u001b[39m\u001b[38;5;124m, \u001b[39m\u001b[38;5;124m\"\u001b[39m\u001b[38;5;241m.\u001b[39mjoin(\u001b[38;5;124mf\u001b[39m\u001b[38;5;124m'\u001b[39m\u001b[38;5;124m\"\u001b[39m\u001b[38;5;132;01m{\u001b[39;00mk\u001b[38;5;132;01m}\u001b[39;00m\u001b[38;5;124m\"\u001b[39m\u001b[38;5;124m'\u001b[39m \u001b[38;5;28;01mfor\u001b[39;00m k \u001b[38;5;129;01min\u001b[39;00m missing_keys)\n\u001b[1;32m   2580\u001b[0m             ),\n\u001b[1;32m   2581\u001b[0m         )\n\u001b[1;32m   2583\u001b[0m \u001b[38;5;28;01mif\u001b[39;00m \u001b[38;5;28mlen\u001b[39m(error_msgs) \u001b[38;5;241m>\u001b[39m \u001b[38;5;241m0\u001b[39m:\n\u001b[0;32m-> 2584\u001b[0m     \u001b[38;5;28;01mraise\u001b[39;00m \u001b[38;5;167;01mRuntimeError\u001b[39;00m(\n\u001b[1;32m   2585\u001b[0m         \u001b[38;5;124m\"\u001b[39m\u001b[38;5;124mError(s) in loading state_dict for \u001b[39m\u001b[38;5;132;01m{}\u001b[39;00m\u001b[38;5;124m:\u001b[39m\u001b[38;5;130;01m\\n\u001b[39;00m\u001b[38;5;130;01m\\t\u001b[39;00m\u001b[38;5;132;01m{}\u001b[39;00m\u001b[38;5;124m\"\u001b[39m\u001b[38;5;241m.\u001b[39mformat(\n\u001b[1;32m   2586\u001b[0m             \u001b[38;5;28mself\u001b[39m\u001b[38;5;241m.\u001b[39m\u001b[38;5;18m__class__\u001b[39m\u001b[38;5;241m.\u001b[39m\u001b[38;5;18m__name__\u001b[39m, \u001b[38;5;124m\"\u001b[39m\u001b[38;5;130;01m\\n\u001b[39;00m\u001b[38;5;130;01m\\t\u001b[39;00m\u001b[38;5;124m\"\u001b[39m\u001b[38;5;241m.\u001b[39mjoin(error_msgs)\n\u001b[1;32m   2587\u001b[0m         )\n\u001b[1;32m   2588\u001b[0m     )\n\u001b[1;32m   2589\u001b[0m \u001b[38;5;28;01mreturn\u001b[39;00m _IncompatibleKeys(missing_keys, unexpected_keys)\n",
      "\u001b[0;31mRuntimeError\u001b[0m: Error(s) in loading state_dict for DataParallel:\n\tMissing key(s) in state_dict: \"module.fc2.4.weight\", \"module.fc2.4.bias\", \"module.fc2.6.weight\", \"module.fc2.6.bias\". \n\tUnexpected key(s) in state_dict: \"module.fc2.5.weight\", \"module.fc2.5.bias\". \n\tsize mismatch for module.fc2.3.weight: copying a param with shape torch.Size([256, 512]) from checkpoint, the shape in current model is torch.Size([512, 512]).\n\tsize mismatch for module.fc2.3.bias: copying a param with shape torch.Size([256]) from checkpoint, the shape in current model is torch.Size([512])."
     ]
    }
   ],
   "source": [
    "saved_model = modify_resnet50(device)\n",
    "saved_model = nn.DataParallel(saved_model)\n",
    "saved_model.load_state_dict(torch.load('trained_two_tailed_resnet50_lr_0.001_epochs_5.pth'))\n",
    "saved_model.eval()\n"
   ]
  },
  {
   "cell_type": "code",
   "execution_count": null,
   "metadata": {},
   "outputs": [],
   "source": [
    "model = AttackerModel(model = saved_model.to('cuda'), dataset = ds).cuda()\n"
   ]
  }
 ],
 "metadata": {
  "kernelspec": {
   "display_name": "monke_env",
   "language": "python",
   "name": "python3"
  },
  "language_info": {
   "codemirror_mode": {
    "name": "ipython",
    "version": 3
   },
   "file_extension": ".py",
   "mimetype": "text/x-python",
   "name": "python",
   "nbconvert_exporter": "python",
   "pygments_lexer": "ipython3",
   "version": "3.12.0"
  }
 },
 "nbformat": 4,
 "nbformat_minor": 2
}
